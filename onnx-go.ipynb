{
 "cells": [
  {
   "cell_type": "markdown",
   "id": "37f5cd05-8e1b-4873-8220-7cd7577da125",
   "metadata": {},
   "source": [
    "# Converting ONNX models to GoMLX\n",
    "\n",
    "## Imports and setup"
   ]
  },
  {
   "cell_type": "code",
   "execution_count": 2,
   "id": "6cdd74c0-e5af-45d6-93d8-7453b1a590f4",
   "metadata": {},
   "outputs": [
    {
     "data": {
      "text/markdown": [
       "**GoNB** version [v0.10.6](https://github.com/janpfeifer/gonb/releases/tag/v0.10.6) / Commit: [0e5f587a077810d058202b76a127651a02bd4382](https://github.com/janpfeifer/gonb/tree/0e5f587a077810d058202b76a127651a02bd4382)\n"
      ]
     },
     "metadata": {},
     "output_type": "display_data"
    },
    {
     "name": "stdout",
     "output_type": "stream",
     "text": [
      "\t- Added replace rule for module \"github.com/gomlx/gomlx\" to local directory \"/home/janpf/Projects/gomlx\".\n",
      "\t- Added replace rule for module \"github.com/janpfeifer/gonb\" to local directory \"/home/janpf/Projects/gonb\".\n",
      "\t- Added replace rule for module \"onnx-gomlx\" to local directory \"/home/janpf/Projects/onnx-gomlx\".\n"
     ]
    }
   ],
   "source": [
    "%version\n",
    "!*rm -f go.work && go work init\n",
    "!*go work use . \"${HOME}/Projects/gonb\" \"${HOME}/Projects/gomlx\" \"${HOME}/Projects/onnx-gomlx\"\n",
    "%goworkfix"
   ]
  },
  {
   "cell_type": "code",
   "execution_count": 3,
   "id": "adeca919-f2ed-4d8b-93fb-6978f94de2d8",
   "metadata": {},
   "outputs": [],
   "source": [
    "import (\n",
    "\t\"fmt\"\n",
    "\t\"os\"\n",
    "\n",
    "\t\"github.com/gogo/protobuf/proto\"\n",
    "\n",
    "    \"github.com/janpfeifer/onnx-gomlx\"\n",
    "\t\"github.com/janpfeifer/must\"\n",
    "\n",
    "    . \"github.com/gomlx/gomlx/graph\"\n",
    "\t\"github.com/gomlx/gomlx/ml/context\"\n",
    "\t\"github.com/gomlx/gomlx/ml/data\"\n",
    "\t\"github.com/gomlx/gomlx/types\"\n",
    "\t\"github.com/pkg/errors\"\n",
    ")\n",
    "\n",
    "var _ = Add"
   ]
  },
  {
   "cell_type": "markdown",
   "id": "9273d236-cb0d-4d92-a0f0-e9b9d6f6e156",
   "metadata": {},
   "source": [
    "## Linear Model\n",
    "\n",
    "The `linear_regression.onnx` was created manually using python:\n",
    "\n",
    "```python\n",
    "X = make_tensor_value_info('X', TensorProto.FLOAT, [None, None])\n",
    "A = make_tensor_value_info('A', TensorProto.FLOAT, [None, None])\n",
    "B = make_tensor_value_info('B', TensorProto.FLOAT, [None, None])\n",
    "\n",
    "# outputs, the shape is left undefined\n",
    "Y = make_tensor_value_info('Y', TensorProto.FLOAT, [None])\n",
    "\n",
    "# It creates a node defined by the operator type MatMul,\n",
    "# 'X', 'A' are the inputs of the node, 'XA' the output.\n",
    "node1 = make_node('MatMul', ['X', 'A'], ['XA'],'XA')\n",
    "node2 = make_node('Add', ['XA', 'B'], ['Y'], 'Y')\n",
    "\n",
    "# from nodes to graph the graph is built from the list of nodes, the list of inputs, the list of outputs and a name.\n",
    "graph = make_graph([node1, node2],  # nodes\n",
    "                    'lr',  # a name\n",
    "                    [X, A, B],  # inputs\n",
    "                    [Y])  # outputs\n",
    "\n",
    "# onnx graph there is no metadata in this case.\n",
    "onnx_model = make_model(graph)\n",
    "check_model(onnx_model)\n",
    "with open(\"linear_regression.onnx\", \"wb\") as f:\n",
    "    f.write(onnx_model.SerializeToString())\n",
    "\n",
    "```"
   ]
  },
  {
   "cell_type": "code",
   "execution_count": 9,
   "id": "f0c2fa3d-78e6-4283-be3d-1ccaa0ddffd6",
   "metadata": {},
   "outputs": [
    {
     "name": "stdout",
     "output_type": "stream",
     "text": [
      "\"XA\":\t[MatMul]\n",
      "\tInputs: [\"X\" \"A\"]\n",
      "\tOutputs: [\"XA\"]\n",
      "\"Y\":\t[Add]\n",
      "\tInputs: [\"XA\" \"B\"]\n",
      "\tOutputs: [\"Y\"]\n"
     ]
    }
   ],
   "source": [
    "var modelPath = data.ReplaceTildeInDir(\"~/work/onnx/linear_regression.onnx\") // all-MiniLM-L6-v2\n",
    "\n",
    "%%\n",
    "// read the onnx model\n",
    "model := must.M1(onnxgomlx.ReadONNXFile(modelPath))\n",
    "graph := model.Proto.Graph\n",
    "for _, n := range graph.Node {\n",
    "    fmt.Printf(\"%q:\\t[%s]\\n\", n.GetName(), n.GetOpType())\n",
    "    fmt.Printf(\"\\tInputs: %q\\n\", n.GetInput())\n",
    "    fmt.Printf(\"\\tOutputs: %q\\n\", n.GetOutput())\n",
    "}"
   ]
  },
  {
   "cell_type": "markdown",
   "id": "19434069-043d-4819-9cc7-1506ad31a143",
   "metadata": {},
   "source": [
    "## [Sentence Enconding all-MiniLM-L6-v2](https://huggingface.co/sentence-transformers/all-MiniLM-L6-v2)\n",
    "\n",
    "From the downloaded file `model.onnx`."
   ]
  },
  {
   "cell_type": "code",
   "execution_count": 10,
   "id": "2240c215-8169-4e17-a64e-2628c2bbdca2",
   "metadata": {},
   "outputs": [
    {
     "name": "stdout",
     "output_type": "stream",
     "text": [
      "780 nodes, 23 different ops\n",
      "\tOps: map[\"Add\":{} \"Cast\":{} \"Concat\":{} \"Constant\":{} \"ConstantOfShape\":{} \"Div\":{} \"Equal\":{} \"Erf\":{} \"Expand\":{} \"Gather\":{} \"MatMul\":{} \"Mul\":{} \"Pow\":{} \"ReduceMean\":{} \"Reshape\":{} \"Shape\":{} \"Slice\":{} \"Softmax\":{} \"Sqrt\":{} \"Sub\":{} \"Transpose\":{} \"Unsqueeze\":{} \"Where\":{}]\n"
     ]
    }
   ],
   "source": [
    "var modelPath = data.ReplaceTildeInDir(\"~/work/onnx/model.onnx\") // all-MiniLM-L6-v2\n",
    "\n",
    "%%\n",
    "// read the onnx model\n",
    "model := must.M1(onnxgomlx.ReadONNXFile(modelPath))\n",
    "graph := model.Proto.Graph\n",
    "opTypes := types.MakeSet[string]()\n",
    "for _, n := range graph.Node {\n",
    "    opTypes.Insert(n.GetOpType())\n",
    "}\n",
    "fmt.Printf(\"%d nodes, %d different ops\\n\", len(graph.Node), len(opTypes))\n",
    "fmt.Printf(\"\\tOps: %q\\n\", opTypes)\n",
    "\n"
   ]
  }
 ],
 "metadata": {
  "kernelspec": {
   "display_name": "Go (gonb)",
   "language": "go",
   "name": "gonb"
  },
  "language_info": {
   "codemirror_mode": "",
   "file_extension": ".go",
   "mimetype": "",
   "name": "go",
   "nbconvert_exporter": "",
   "pygments_lexer": "",
   "version": "go1.23.2"
  }
 },
 "nbformat": 4,
 "nbformat_minor": 5
}
