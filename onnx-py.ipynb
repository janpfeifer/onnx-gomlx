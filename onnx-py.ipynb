{
 "cells": [
  {
   "cell_type": "code",
   "execution_count": 1,
   "id": "39897ce6-4ab9-44b8-8262-aad96635d476",
   "metadata": {},
   "outputs": [],
   "source": [
    "from onnx import TensorProto\n",
    "from onnx.helper import (\n",
    "    make_model, make_node, make_graph,\n",
    "    make_tensor_value_info)\n",
    "from onnx.checker import check_model\n"
   ]
  },
  {
   "cell_type": "code",
   "execution_count": 2,
   "id": "d0a5111e-9542-4a90-b33e-7809b092a211",
   "metadata": {},
   "outputs": [],
   "source": [
    "# 'X' is the name, TensorProto.FLOAT the type, [None, None] the shape\n",
    "X = make_tensor_value_info('X', TensorProto.FLOAT, [None, None])\n",
    "A = make_tensor_value_info('A', TensorProto.FLOAT, [None, None])\n",
    "B = make_tensor_value_info('B', TensorProto.FLOAT, [None, None])\n",
    "\n",
    "# outputs, the shape is left undefined\n",
    "\n",
    "Y = make_tensor_value_info('Y', TensorProto.FLOAT, [None])\n",
    "\n",
    "# nodes\n",
    "\n",
    "# It creates a node defined by the operator type MatMul,\n",
    "# 'X', 'A' are the inputs of the node, 'XA' the output.\n",
    "node1 = make_node('MatMul', ['X', 'A'], ['XA'], 'XA')\n",
    "node2 = make_node('Add', ['XA', 'B'], ['Y'], 'Y')\n",
    "\n",
    "# from nodes to graph\n",
    "# the graph is built from the list of nodes, the list of inputs,\n",
    "# the list of outputs and a name.\n",
    "\n",
    "graph = make_graph([node1, node2],  # nodes\n",
    "                    'lr',  # a name\n",
    "                    [X, A, B],  # inputs\n",
    "                    [Y])  # outputs\n",
    "\n",
    "# onnx graph\n",
    "# there is no metadata in this case.\n",
    "\n",
    "onnx_model = make_model(graph)\n",
    "\n",
    "# Let's check the model is consistent,\n",
    "# this function is described in section\n",
    "# Checker and Shape Inference.\n",
    "check_model(onnx_model)"
   ]
  },
  {
   "cell_type": "code",
   "execution_count": 3,
   "id": "65bac1e7-8da7-4995-abf1-44f35b895292",
   "metadata": {},
   "outputs": [],
   "source": [
    "with open(\"linear_regression.onnx\", \"wb\") as f:\n",
    "    f.write(onnx_model.SerializeToString())"
   ]
  },
  {
   "cell_type": "code",
   "execution_count": 4,
   "id": "740e9376-6c3b-4c0f-b15c-2e7c10f80174",
   "metadata": {},
   "outputs": [
    {
     "name": "stdout",
     "output_type": "stream",
     "text": [
      "[[ 1001.23]\n",
      " [10111.12]]\n"
     ]
    },
    {
     "name": "stderr",
     "output_type": "stream",
     "text": [
      "\u001b[0;93m2024-10-25 09:45:44.730867995 [W:onnxruntime:, graph.cc:109 MergeShapeInfo] Error merging shape info for output. 'Y' source:{-1,-1} target:{-1}. Falling back to lenient merge.\u001b[m\n"
     ]
    }
   ],
   "source": [
    "import onnxruntime as ort\n",
    "import numpy as np\n",
    "\n",
    "x = np.array([[1.0, 2.0, 3.0], [100.0, 101.0, 102.0]], dtype=np.float32)\n",
    "a = np.array([[1.0], [0.1], [0.01]], dtype=np.float32)\n",
    "b = np.array([[1000.0], [10000.0]], dtype=np.float32)\n",
    "\n",
    "ort_sess = ort.InferenceSession('linear_regression.onnx')\n",
    "outputs = ort_sess.run(['Y'], {'X': x, 'A': a, 'B':b})\n",
    "print(outputs[0])"
   ]
  }
 ],
 "metadata": {
  "kernelspec": {
   "display_name": "Python 3 (ipykernel)",
   "language": "python",
   "name": "python3"
  },
  "language_info": {
   "codemirror_mode": {
    "name": "ipython",
    "version": 3
   },
   "file_extension": ".py",
   "mimetype": "text/x-python",
   "name": "python",
   "nbconvert_exporter": "python",
   "pygments_lexer": "ipython3",
   "version": "3.12.3"
  }
 },
 "nbformat": 4,
 "nbformat_minor": 5
}
